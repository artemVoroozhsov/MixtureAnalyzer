{
  "nbformat": 4,
  "nbformat_minor": 0,
  "metadata": {
    "colab": {
      "provenance": [],
      "machine_shape": "hm",
      "gpuType": "T4",
      "collapsed_sections": [
        "tIla_CY_wEmr",
        "si0F6rbw2kbs"
      ]
    },
    "kernelspec": {
      "name": "python3",
      "display_name": "Python 3"
    },
    "language_info": {
      "name": "python"
    },
    "accelerator": "GPU"
  },
  "cells": [
    {
      "cell_type": "code",
      "execution_count": 2,
      "metadata": {
        "id": "h0WVsFxGX0qa",
        "colab": {
          "base_uri": "https://localhost:8080/",
          "height": 0
        },
        "outputId": "19bd8c03-bc84-4b02-a51d-2f14ecfa982f"
      },
      "outputs": [
        {
          "output_type": "stream",
          "name": "stdout",
          "text": [
            "Requirement already satisfied: unrar in /usr/local/lib/python3.10/dist-packages (0.4)\n",
            "\n",
            "UNRAR 6.11 beta 1 freeware      Copyright (c) 1993-2022 Alexander Roshal\n",
            "\n",
            "\n",
            "Extracting from /content/dataset.rar\n",
            "\n",
            "Extracting  x_train_red.npy                                              \b\b\b\b 65%\b\b\b\b 78%\b\b\b\b\b  OK \n",
            "Extracting  x_val_red.npy                                                \b\b\b\b 97%\b\b\b\b\b  OK \n",
            "Extracting  y_test_red.npy                                               \b\b\b\b 97%\b\b\b\b\b  OK \n",
            "Extracting  y_train_red.npy                                              \b\b\b\b 97%\b\b\b\b\b  OK \n",
            "Extracting  y_val_red.npy                                                \b\b\b\b 97%\b\b\b\b\b  OK \n",
            "Extracting  x_test_red.npy                                               \b\b\b\b100%\b\b\b\b\b  OK \n",
            "All OK\n"
          ]
        }
      ],
      "source": [
        "!pip install unrar\n",
        "\n",
        "import numpy as np\n",
        "import random\n",
        "import torch\n",
        "import matplotlib.pyplot as plt\n",
        "\n",
        "def set_random_seed(seed):\n",
        "    torch.backends.cudnn.deterministic = True\n",
        "    torch.manual_seed(seed)\n",
        "    torch.cuda.manual_seed(seed)\n",
        "    np.random.seed(seed)\n",
        "    random.seed(seed)\n",
        "\n",
        "\n",
        "set_random_seed(42)\n",
        "\n",
        "device = torch.device(\"cuda:0\" if torch.cuda.is_available() else \"cpu\")\n",
        "\n",
        "!unrar x /content/dataset.rar"
      ]
    },
    {
      "cell_type": "code",
      "source": [
        "from google.colab import files\n",
        "src = list(files.upload().values())[0]\n",
        "open('data_and_model.py','wb').write(src)\n",
        "from data_and_model import SiameseNet"
      ],
      "metadata": {
        "colab": {
          "base_uri": "https://localhost:8080/",
          "height": 73
        },
        "id": "STTwLhfvBy1-",
        "outputId": "013b425c-ac38-45a0-94bb-7ba4e141ae16"
      },
      "execution_count": 3,
      "outputs": [
        {
          "output_type": "display_data",
          "data": {
            "text/plain": [
              "<IPython.core.display.HTML object>"
            ],
            "text/html": [
              "\n",
              "     <input type=\"file\" id=\"files-8ef13c0c-624e-4ba8-b4d2-4b10c39a2583\" name=\"files[]\" multiple disabled\n",
              "        style=\"border:none\" />\n",
              "     <output id=\"result-8ef13c0c-624e-4ba8-b4d2-4b10c39a2583\">\n",
              "      Upload widget is only available when the cell has been executed in the\n",
              "      current browser session. Please rerun this cell to enable.\n",
              "      </output>\n",
              "      <script>// Copyright 2017 Google LLC\n",
              "//\n",
              "// Licensed under the Apache License, Version 2.0 (the \"License\");\n",
              "// you may not use this file except in compliance with the License.\n",
              "// You may obtain a copy of the License at\n",
              "//\n",
              "//      http://www.apache.org/licenses/LICENSE-2.0\n",
              "//\n",
              "// Unless required by applicable law or agreed to in writing, software\n",
              "// distributed under the License is distributed on an \"AS IS\" BASIS,\n",
              "// WITHOUT WARRANTIES OR CONDITIONS OF ANY KIND, either express or implied.\n",
              "// See the License for the specific language governing permissions and\n",
              "// limitations under the License.\n",
              "\n",
              "/**\n",
              " * @fileoverview Helpers for google.colab Python module.\n",
              " */\n",
              "(function(scope) {\n",
              "function span(text, styleAttributes = {}) {\n",
              "  const element = document.createElement('span');\n",
              "  element.textContent = text;\n",
              "  for (const key of Object.keys(styleAttributes)) {\n",
              "    element.style[key] = styleAttributes[key];\n",
              "  }\n",
              "  return element;\n",
              "}\n",
              "\n",
              "// Max number of bytes which will be uploaded at a time.\n",
              "const MAX_PAYLOAD_SIZE = 100 * 1024;\n",
              "\n",
              "function _uploadFiles(inputId, outputId) {\n",
              "  const steps = uploadFilesStep(inputId, outputId);\n",
              "  const outputElement = document.getElementById(outputId);\n",
              "  // Cache steps on the outputElement to make it available for the next call\n",
              "  // to uploadFilesContinue from Python.\n",
              "  outputElement.steps = steps;\n",
              "\n",
              "  return _uploadFilesContinue(outputId);\n",
              "}\n",
              "\n",
              "// This is roughly an async generator (not supported in the browser yet),\n",
              "// where there are multiple asynchronous steps and the Python side is going\n",
              "// to poll for completion of each step.\n",
              "// This uses a Promise to block the python side on completion of each step,\n",
              "// then passes the result of the previous step as the input to the next step.\n",
              "function _uploadFilesContinue(outputId) {\n",
              "  const outputElement = document.getElementById(outputId);\n",
              "  const steps = outputElement.steps;\n",
              "\n",
              "  const next = steps.next(outputElement.lastPromiseValue);\n",
              "  return Promise.resolve(next.value.promise).then((value) => {\n",
              "    // Cache the last promise value to make it available to the next\n",
              "    // step of the generator.\n",
              "    outputElement.lastPromiseValue = value;\n",
              "    return next.value.response;\n",
              "  });\n",
              "}\n",
              "\n",
              "/**\n",
              " * Generator function which is called between each async step of the upload\n",
              " * process.\n",
              " * @param {string} inputId Element ID of the input file picker element.\n",
              " * @param {string} outputId Element ID of the output display.\n",
              " * @return {!Iterable<!Object>} Iterable of next steps.\n",
              " */\n",
              "function* uploadFilesStep(inputId, outputId) {\n",
              "  const inputElement = document.getElementById(inputId);\n",
              "  inputElement.disabled = false;\n",
              "\n",
              "  const outputElement = document.getElementById(outputId);\n",
              "  outputElement.innerHTML = '';\n",
              "\n",
              "  const pickedPromise = new Promise((resolve) => {\n",
              "    inputElement.addEventListener('change', (e) => {\n",
              "      resolve(e.target.files);\n",
              "    });\n",
              "  });\n",
              "\n",
              "  const cancel = document.createElement('button');\n",
              "  inputElement.parentElement.appendChild(cancel);\n",
              "  cancel.textContent = 'Cancel upload';\n",
              "  const cancelPromise = new Promise((resolve) => {\n",
              "    cancel.onclick = () => {\n",
              "      resolve(null);\n",
              "    };\n",
              "  });\n",
              "\n",
              "  // Wait for the user to pick the files.\n",
              "  const files = yield {\n",
              "    promise: Promise.race([pickedPromise, cancelPromise]),\n",
              "    response: {\n",
              "      action: 'starting',\n",
              "    }\n",
              "  };\n",
              "\n",
              "  cancel.remove();\n",
              "\n",
              "  // Disable the input element since further picks are not allowed.\n",
              "  inputElement.disabled = true;\n",
              "\n",
              "  if (!files) {\n",
              "    return {\n",
              "      response: {\n",
              "        action: 'complete',\n",
              "      }\n",
              "    };\n",
              "  }\n",
              "\n",
              "  for (const file of files) {\n",
              "    const li = document.createElement('li');\n",
              "    li.append(span(file.name, {fontWeight: 'bold'}));\n",
              "    li.append(span(\n",
              "        `(${file.type || 'n/a'}) - ${file.size} bytes, ` +\n",
              "        `last modified: ${\n",
              "            file.lastModifiedDate ? file.lastModifiedDate.toLocaleDateString() :\n",
              "                                    'n/a'} - `));\n",
              "    const percent = span('0% done');\n",
              "    li.appendChild(percent);\n",
              "\n",
              "    outputElement.appendChild(li);\n",
              "\n",
              "    const fileDataPromise = new Promise((resolve) => {\n",
              "      const reader = new FileReader();\n",
              "      reader.onload = (e) => {\n",
              "        resolve(e.target.result);\n",
              "      };\n",
              "      reader.readAsArrayBuffer(file);\n",
              "    });\n",
              "    // Wait for the data to be ready.\n",
              "    let fileData = yield {\n",
              "      promise: fileDataPromise,\n",
              "      response: {\n",
              "        action: 'continue',\n",
              "      }\n",
              "    };\n",
              "\n",
              "    // Use a chunked sending to avoid message size limits. See b/62115660.\n",
              "    let position = 0;\n",
              "    do {\n",
              "      const length = Math.min(fileData.byteLength - position, MAX_PAYLOAD_SIZE);\n",
              "      const chunk = new Uint8Array(fileData, position, length);\n",
              "      position += length;\n",
              "\n",
              "      const base64 = btoa(String.fromCharCode.apply(null, chunk));\n",
              "      yield {\n",
              "        response: {\n",
              "          action: 'append',\n",
              "          file: file.name,\n",
              "          data: base64,\n",
              "        },\n",
              "      };\n",
              "\n",
              "      let percentDone = fileData.byteLength === 0 ?\n",
              "          100 :\n",
              "          Math.round((position / fileData.byteLength) * 100);\n",
              "      percent.textContent = `${percentDone}% done`;\n",
              "\n",
              "    } while (position < fileData.byteLength);\n",
              "  }\n",
              "\n",
              "  // All done.\n",
              "  yield {\n",
              "    response: {\n",
              "      action: 'complete',\n",
              "    }\n",
              "  };\n",
              "}\n",
              "\n",
              "scope.google = scope.google || {};\n",
              "scope.google.colab = scope.google.colab || {};\n",
              "scope.google.colab._files = {\n",
              "  _uploadFiles,\n",
              "  _uploadFilesContinue,\n",
              "};\n",
              "})(self);\n",
              "</script> "
            ]
          },
          "metadata": {}
        },
        {
          "output_type": "stream",
          "name": "stdout",
          "text": [
            "Saving data_and_model.py to data_and_model (1).py\n"
          ]
        }
      ]
    },
    {
      "cell_type": "code",
      "source": [
        "latent_dim = 64"
      ],
      "metadata": {
        "id": "5ShNw2QmCTpO"
      },
      "execution_count": 4,
      "outputs": []
    },
    {
      "cell_type": "markdown",
      "source": [
        "# Тест (знакомые классы)"
      ],
      "metadata": {
        "id": "7XWAckL3jjCV"
      }
    },
    {
      "cell_type": "code",
      "source": [
        "model = SiameseNet(latent_dim).to(device)\n",
        "model.load_state_dict(torch.load('/content/model_weights'))"
      ],
      "metadata": {
        "colab": {
          "base_uri": "https://localhost:8080/",
          "height": 0
        },
        "id": "X5eX-HqNxlae",
        "outputId": "5151f5aa-a9db-4909-fbc2-5f383f10d543"
      },
      "execution_count": 5,
      "outputs": [
        {
          "output_type": "execute_result",
          "data": {
            "text/plain": [
              "<All keys matched successfully>"
            ]
          },
          "metadata": {},
          "execution_count": 5
        }
      ]
    },
    {
      "cell_type": "code",
      "source": [
        "def accuracy_(pred, cor):\n",
        "  accuracy = np.zeros((4))\n",
        "  total = 0\n",
        "  for i in range(cor.shape[0]):\n",
        "    intersect = np.intersect1d(cor[i], pred[i])\n",
        "    error = len(cor[i]) - len(intersect)\n",
        "    for j in range(accuracy.shape[0]-error):\n",
        "      accuracy[j] = accuracy[j] +1\n",
        "    total = total + 1\n",
        "  return accuracy/total"
      ],
      "metadata": {
        "id": "RBVFjImekW7l"
      },
      "execution_count": null,
      "outputs": []
    },
    {
      "cell_type": "code",
      "source": [
        "x_test = np.load('/content/x_test_red.npy')\n",
        "y_test = np.load('/content/y_test_red.npy')"
      ],
      "metadata": {
        "id": "ZzXSy8lFja_t"
      },
      "execution_count": null,
      "outputs": []
    },
    {
      "cell_type": "code",
      "source": [
        "x_test = x_test[2000:]\n",
        "y_test = y_test[2000:]"
      ],
      "metadata": {
        "id": "U0rCIz9ekG_8"
      },
      "execution_count": null,
      "outputs": []
    },
    {
      "cell_type": "code",
      "source": [
        "molecules = []\n",
        "molecules_embedding = []\n",
        "label = []\n",
        "for i in range(400, 500):\n",
        "  molecules = []\n",
        "  embedding = np.zeros((20, latent_dim))\n",
        "  for j in range(0, 20):\n",
        "    molecule = x_train[20*i + j]/np.max(x_train[20*i + j]) + np.random.normal(0,0.005,5000)\n",
        "    molecules.append(molecule)\n",
        "  molecules = np.array(molecules)\n",
        "  molecules = torch.Tensor(molecules).to(device)\n",
        "  embedding = embedding + model.predict(molecules).detach().cpu().numpy()\n",
        "  embedding = np.mean(embedding, axis = 0)\n",
        "  molecules_embedding.append(embedding/np.linalg.norm(embedding))\n",
        "  label.append(i)\n",
        "label = np.array(label)"
      ],
      "metadata": {
        "id": "r8oNqMNzkJIl"
      },
      "execution_count": null,
      "outputs": []
    },
    {
      "cell_type": "code",
      "source": [
        "label_train = np.zeros(shape = (len(label)*(len(label)-1)*(len(label) - 2)*(len(label)-3)//2//3//4, 4))\n",
        "mixture_train = np.zeros(shape = (len(label)*(len(label)-1)*(len(label) - 2)*(len(label)-3)//2//3//4, 64))\n",
        "l = 0\n",
        "for i in range(len(molecules_embedding)):\n",
        "  for j in range(i+1, len(molecules_embedding)):\n",
        "    for k in range(j+1, len(molecules_embedding)):\n",
        "      for m in range(k+1, len(molecules_embedding)):\n",
        "        emb = molecules_embedding[i] + molecules_embedding[j] + molecules_embedding[k] + molecules_embedding[m]\n",
        "        mixture_train[l] = emb/np.linalg.norm(emb)\n",
        "        label_train[l] = np.array([label[i], label[j], label[k], label[m]])\n",
        "        l = l + 1"
      ],
      "metadata": {
        "id": "ONZmGthCkNG0"
      },
      "execution_count": null,
      "outputs": []
    },
    {
      "cell_type": "code",
      "source": [
        "mixtures_test = []\n",
        "correct_test = []\n",
        "for i in range(0, 500):\n",
        "  a = x_test[i]\n",
        "  idxs = np.concatenate((np.arange(x_test[:].shape[0])[0 : i//5 * 5],\n",
        "                                      np.arange(x_test[:].shape[0])[(i//5 + 1) * 5 :]))\n",
        "  b_idx = np.random.choice(idxs)\n",
        "  b = x_test[b_idx]\n",
        "  c_idx = np.random.choice(idxs)\n",
        "  c = x_test[c_idx]\n",
        "  d_idx = np.random.choice(idxs)\n",
        "  d = x_test[d_idx]\n",
        "  mixtures_test.append((a+b+c+d)/np.max(a+b+c+d) + np.random.normal(0,0.005,a.shape[0]))\n",
        "  correct_test.append([y_test[i], y_test[b_idx], y_test[c_idx], y_test[d_idx]])\n",
        "mixtures_test = torch.Tensor(mixtures_test).to(device)\n",
        "classification_data_test = model.predict(mixtures_test).detach().cpu().numpy()\n",
        "correct_test = np.array(correct_test).reshape(-1, 4)"
      ],
      "metadata": {
        "id": "EPx1FVmxkPat",
        "colab": {
          "base_uri": "https://localhost:8080/"
        },
        "outputId": "ce2b53fb-3374-4277-9709-e9f8d8ed3810"
      },
      "execution_count": null,
      "outputs": [
        {
          "output_type": "stream",
          "name": "stderr",
          "text": [
            "<ipython-input-34-18c6c86903d2>:15: UserWarning: Creating a tensor from a list of numpy.ndarrays is extremely slow. Please consider converting the list to a single numpy.ndarray with numpy.array() before converting to a tensor. (Triggered internally at ../torch/csrc/utils/tensor_new.cpp:245.)\n",
            "  mixtures_test = torch.Tensor(mixtures_test).to(device)\n"
          ]
        }
      ]
    },
    {
      "cell_type": "code",
      "source": [
        "from sklearn.neighbors import KNeighborsClassifier\n",
        "neigh = KNeighborsClassifier(n_neighbors=1)\n",
        "neigh.fit(mixture_train, label_train)\n",
        "preds = neigh.predict(classification_data_test)"
      ],
      "metadata": {
        "id": "TTAs5LlukRPt"
      },
      "execution_count": null,
      "outputs": []
    },
    {
      "cell_type": "code",
      "source": [
        "accuracy = accuracy_(preds, correct_test)"
      ],
      "metadata": {
        "id": "0Niq4ln-kX8N"
      },
      "execution_count": null,
      "outputs": []
    },
    {
      "cell_type": "code",
      "source": [
        "print('.....Accuracy.....')\n",
        "print('1 of 4 ......', accuracy[0])\n",
        "print('2 of 4 ......', accuracy[1])\n",
        "print('3 of 4 ......', accuracy[2])\n",
        "print('4 of 4 ......', accuracy[3])"
      ],
      "metadata": {
        "colab": {
          "base_uri": "https://localhost:8080/"
        },
        "id": "uWpFZzRHW1GF",
        "outputId": "38539577-ff8e-400b-c77d-31226386e9f2"
      },
      "execution_count": null,
      "outputs": [
        {
          "output_type": "stream",
          "name": "stdout",
          "text": [
            ".....Accuracy.....\n",
            "1 of 4 ...... 1.0\n",
            "2 of 4 ...... 0.998\n",
            "3 of 4 ...... 0.962\n",
            "4 of 4 ...... 0.822\n"
          ]
        }
      ]
    },
    {
      "cell_type": "markdown",
      "source": [
        "# Тест (новые классы)"
      ],
      "metadata": {
        "id": "tIla_CY_wEmr"
      }
    },
    {
      "cell_type": "code",
      "source": [
        "model = SiameseNet(latent_dim).to(device)\n",
        "model.load_state_dict(torch.load('/content/model_weights'))"
      ],
      "metadata": {
        "id": "nl0BfwMNxrQT"
      },
      "execution_count": null,
      "outputs": []
    },
    {
      "cell_type": "code",
      "source": [
        "def accuracy_(pred, cor):\n",
        "  accuracy = np.zeros((4))\n",
        "  total = 0\n",
        "  for i in range(cor.shape[0]):\n",
        "    intersect = np.intersect1d(cor[i], pred[i])\n",
        "    error = len(cor[i]) - len(intersect)\n",
        "    for j in range(accuracy.shape[0]-error):\n",
        "      accuracy[j] = accuracy[j] +1\n",
        "    total = total + 1\n",
        "  return accuracy/total"
      ],
      "metadata": {
        "id": "ReXIvVm9wEmw"
      },
      "execution_count": null,
      "outputs": []
    },
    {
      "cell_type": "code",
      "source": [
        "x_test = np.load('/content/x_test_red.npy')\n",
        "y_test = np.load('/content/y_test_red.npy')"
      ],
      "metadata": {
        "id": "9dV4-x4UwEmx"
      },
      "execution_count": null,
      "outputs": []
    },
    {
      "cell_type": "code",
      "source": [
        "x_test = x_test[:500]\n",
        "y_test = y_test[:500]"
      ],
      "metadata": {
        "id": "NrKO_eAawEmx"
      },
      "execution_count": null,
      "outputs": []
    },
    {
      "cell_type": "code",
      "source": [
        "molecules = []\n",
        "molecules_embedding = []\n",
        "label = []\n",
        "for i in range(0, 100):\n",
        "  molecules = []\n",
        "  embedding = np.zeros((20, latent_dim))\n",
        "  for j in range(0, 20):\n",
        "    molecule = x_train[20*i + j]/np.max(x_train[20*i + j]) + np.random.normal(0,0.005,5000)\n",
        "    molecules.append(molecule)\n",
        "  molecules = np.array(molecules)\n",
        "  molecules = torch.Tensor(molecules).to(device)\n",
        "  embedding = embedding + model.predict(molecules).detach().cpu().numpy()\n",
        "  embedding = np.mean(embedding, axis = 0)\n",
        "  molecules_embedding.append(embedding/np.linalg.norm(embedding))\n",
        "  label.append(i)\n",
        "label = np.array(label)"
      ],
      "metadata": {
        "id": "db6PHHMhwEmx"
      },
      "execution_count": null,
      "outputs": []
    },
    {
      "cell_type": "code",
      "source": [
        "label_train = np.zeros(shape = (len(label)*(len(label)-1)*(len(label) - 2)*(len(label)-3)//2//3//4, 4))\n",
        "mixture_train = np.zeros(shape = (len(label)*(len(label)-1)*(len(label) - 2)*(len(label)-3)//2//3//4, 64))\n",
        "l = 0\n",
        "for i in range(len(molecules_embedding)):\n",
        "  for j in range(i+1, len(molecules_embedding)):\n",
        "    for k in range(j+1, len(molecules_embedding)):\n",
        "      for m in range(k+1, len(molecules_embedding)):\n",
        "        emb = molecules_embedding[i] + molecules_embedding[j] + molecules_embedding[k] + molecules_embedding[m]\n",
        "        mixture_train[l] = emb/np.linalg.norm(emb)\n",
        "        label_train[l] = np.array([label[i], label[j], label[k], label[m]])\n",
        "        l = l + 1"
      ],
      "metadata": {
        "id": "iGuAxEJzwEmx"
      },
      "execution_count": null,
      "outputs": []
    },
    {
      "cell_type": "code",
      "source": [
        "mixtures_test = []\n",
        "correct_test = []\n",
        "for i in range(0, 500):\n",
        "  a = x_test[i]\n",
        "  idxs = np.concatenate((np.arange(x_test[:].shape[0])[0 : i//5 * 5],\n",
        "                                      np.arange(x_test[:].shape[0])[(i//5 + 1) * 5 :]))\n",
        "  b_idx = np.random.choice(idxs)\n",
        "  b = x_test[b_idx]\n",
        "  c_idx = np.random.choice(idxs)\n",
        "  c = x_test[c_idx]\n",
        "  d_idx = np.random.choice(idxs)\n",
        "  d = x_test[d_idx]\n",
        "  mixtures_test.append((a+b+c+d)/np.max(a+b+c+d) + np.random.normal(0,0.005,a.shape[0]))\n",
        "  correct_test.append([y_test[i], y_test[b_idx], y_test[c_idx], y_test[d_idx]])\n",
        "mixtures_test = torch.Tensor(mixtures_test).to(device)\n",
        "classification_data_test = model.predict(mixtures_test).detach().cpu().numpy()\n",
        "correct_test = np.array(correct_test).reshape(-1, 4)"
      ],
      "metadata": {
        "id": "UyHr5ZeZwEmx"
      },
      "execution_count": null,
      "outputs": []
    },
    {
      "cell_type": "code",
      "source": [
        "from sklearn.neighbors import KNeighborsClassifier\n",
        "neigh = KNeighborsClassifier(n_neighbors=1)\n",
        "neigh.fit(mixture_train, label_train)\n",
        "preds = neigh.predict(classification_data_test)"
      ],
      "metadata": {
        "id": "D_Sn7tYVwEmy"
      },
      "execution_count": null,
      "outputs": []
    },
    {
      "cell_type": "code",
      "source": [
        "accuracy = accuracy_(preds, correct_test)"
      ],
      "metadata": {
        "id": "rSZKLNJ8wEmy"
      },
      "execution_count": null,
      "outputs": []
    },
    {
      "cell_type": "code",
      "source": [
        "print('.....Accuracy.....')\n",
        "print('1 of 4 ......', accuracy[0])\n",
        "print('2 of 4 ......', accuracy[1])\n",
        "print('3 of 4 ......', accuracy[2])\n",
        "print('4 of 4 ......', accuracy[3])"
      ],
      "metadata": {
        "colab": {
          "base_uri": "https://localhost:8080/"
        },
        "id": "gLaoGqxBEBd4",
        "outputId": "70ca3ef0-f149-4b5a-9eb0-0f2b60bce0b3"
      },
      "execution_count": null,
      "outputs": [
        {
          "output_type": "stream",
          "name": "stdout",
          "text": [
            ".....Accuracy.....\n",
            "1 of 4 ...... 1.0\n",
            "2 of 4 ...... 0.986\n",
            "3 of 4 ...... 0.928\n",
            "4 of 4 ...... 0.722\n"
          ]
        }
      ]
    },
    {
      "cell_type": "markdown",
      "source": [
        "# Тест (неравные количества компонентов в смесях)"
      ],
      "metadata": {
        "id": "RdSxlaIqLzpL"
      }
    },
    {
      "cell_type": "code",
      "source": [
        "model = SiameseNet(latent_dim).to(device)\n",
        "model.load_state_dict(torch.load('/content/model_weights'))"
      ],
      "metadata": {
        "id": "VLhuTXeYxtZi"
      },
      "execution_count": null,
      "outputs": []
    },
    {
      "cell_type": "code",
      "source": [
        "def accuracy_(pred, cor):\n",
        "  accuracy = np.zeros((4))\n",
        "  total = 0\n",
        "  for i in range(cor.shape[0]):\n",
        "    intersect = np.intersect1d(cor[i], pred[i])\n",
        "    error = len(cor[i]) - len(intersect)\n",
        "    for j in range(accuracy.shape[0]-error):\n",
        "      accuracy[j] = accuracy[j] +1\n",
        "    total = total + 1\n",
        "  return accuracy/total"
      ],
      "metadata": {
        "id": "CPtanLooLzpR"
      },
      "execution_count": null,
      "outputs": []
    },
    {
      "cell_type": "code",
      "source": [
        "x_test = np.load('/content/x_test_red.npy')\n",
        "y_test = np.load('/content/y_test_red.npy')"
      ],
      "metadata": {
        "id": "iN2h6rn8LzpS"
      },
      "execution_count": null,
      "outputs": []
    },
    {
      "cell_type": "code",
      "source": [
        "x_test = x_test[:500]\n",
        "y_test = y_test[:500]"
      ],
      "metadata": {
        "id": "CNWnHVoTLzpS"
      },
      "execution_count": null,
      "outputs": []
    },
    {
      "cell_type": "code",
      "source": [
        "molecules = []\n",
        "molecules_embedding = []\n",
        "label = []\n",
        "for i in range(0, 100):\n",
        "  molecules = []\n",
        "  embedding = np.zeros((20, latent_dim))\n",
        "  for j in range(0, 20):\n",
        "    molecule = x_train[20*i + j]/np.max(x_train[20*i + j])\n",
        "    molecules.append(molecule)\n",
        "  molecules = np.array(molecules)\n",
        "  molecules = torch.Tensor(molecules).to(device)\n",
        "  embedding = embedding + model.predict(molecules).detach().cpu().numpy()\n",
        "  embedding = np.mean(embedding, axis = 0)\n",
        "  molecules_embedding.append(embedding/np.linalg.norm(embedding))\n",
        "  label.append(i)\n",
        "label = np.array(label)"
      ],
      "metadata": {
        "id": "AnKUO67bLzpS"
      },
      "execution_count": null,
      "outputs": []
    },
    {
      "cell_type": "code",
      "source": [
        "label_train = np.zeros(shape = (len(label)*(len(label)-1)*(len(label) - 2)*(len(label)-3)//2//3//4, 4))\n",
        "mixture_train = np.zeros(shape = (len(label)*(len(label)-1)*(len(label) - 2)*(len(label)-3)//2//3//4, 64))\n",
        "l = 0\n",
        "for i in range(len(molecules_embedding)):\n",
        "  for j in range(i+1, len(molecules_embedding)):\n",
        "    for k in range(j+1, len(molecules_embedding)):\n",
        "      for m in range(k+1, len(molecules_embedding)):\n",
        "        emb = molecules_embedding[i] + molecules_embedding[j] + molecules_embedding[k] + molecules_embedding[m]\n",
        "        mixture_train[l] = emb/np.linalg.norm(emb)\n",
        "        label_train[l] = np.array([label[i], label[j], label[k], label[m]])\n",
        "        l = l + 1"
      ],
      "metadata": {
        "id": "28_oekIXLzpS"
      },
      "execution_count": null,
      "outputs": []
    },
    {
      "cell_type": "code",
      "source": [
        "mixtures_test = []\n",
        "correct_test = []\n",
        "for i in range(0, 500):\n",
        "  a = 0.15*x_test[i]\n",
        "  idxs = np.concatenate((np.arange(x_test[:].shape[0])[0 : i//5 * 5],\n",
        "                                      np.arange(x_test[:].shape[0])[(i//5 + 1) * 5 :]))\n",
        "  b_idx = np.random.choice(idxs)\n",
        "  b = 0.22*x_test[b_idx]\n",
        "  c_idx = np.random.choice(idxs)\n",
        "  c = 0.23*x_test[c_idx]\n",
        "  d_idx = np.random.choice(idxs)\n",
        "  d = 0.4*x_test[d_idx]\n",
        "  mixtures_test.append((a+b+c+d)/np.max(a+b+c+d) + np.random.normal(0,0.005,a.shape[0]))\n",
        "  correct_test.append([y_test[i], y_test[b_idx], y_test[c_idx], y_test[d_idx]])\n",
        "mixtures_test = torch.Tensor(mixtures_test).to(device)\n",
        "classification_data_test = model.predict(mixtures_test).detach().cpu().numpy()\n",
        "correct_test = np.array(correct_test).reshape(-1, 4)"
      ],
      "metadata": {
        "id": "apVM2i9VLzpS"
      },
      "execution_count": null,
      "outputs": []
    },
    {
      "cell_type": "code",
      "source": [
        "from sklearn.neighbors import KNeighborsClassifier\n",
        "neigh = KNeighborsClassifier(n_neighbors=1)\n",
        "neigh.fit(mixture_train, label_train)\n",
        "preds = neigh.predict(classification_data_test)"
      ],
      "metadata": {
        "id": "77DME5lHLzpS"
      },
      "execution_count": null,
      "outputs": []
    },
    {
      "cell_type": "code",
      "source": [
        "accuracy = accuracy_(preds, correct_test)"
      ],
      "metadata": {
        "id": "5o-YZlmPLzpT"
      },
      "execution_count": null,
      "outputs": []
    },
    {
      "cell_type": "code",
      "source": [
        "print('.....Accuracy.....')\n",
        "print('1 of 4 ......', accuracy[0])\n",
        "print('2 of 4 ......', accuracy[1])\n",
        "print('3 of 4 ......', accuracy[2])\n",
        "print('4 of 4 ......', accuracy[3])"
      ],
      "metadata": {
        "colab": {
          "base_uri": "https://localhost:8080/"
        },
        "id": "WF_SZSlUhC3D",
        "outputId": "f081869a-37c2-49ef-ea9e-e953b072e9ff"
      },
      "execution_count": null,
      "outputs": [
        {
          "output_type": "stream",
          "name": "stdout",
          "text": [
            ".....Accuracy.....\n",
            "1 of 4 ...... 0.996\n",
            "2 of 4 ...... 0.942\n",
            "3 of 4 ...... 0.726\n",
            "4 of 4 ...... 0.398\n"
          ]
        }
      ]
    },
    {
      "cell_type": "markdown",
      "source": [
        "# Бинарные смеси"
      ],
      "metadata": {
        "id": "-W3RrV-pIjw-"
      }
    },
    {
      "cell_type": "code",
      "source": [
        "model = SiameseNet(latent_dim).to(device)\n",
        "model.load_state_dict(torch.load('/content/model_weights'))"
      ],
      "metadata": {
        "id": "ITbpe-TSxuUa"
      },
      "execution_count": null,
      "outputs": []
    },
    {
      "cell_type": "code",
      "source": [
        "def accuracy_(pred, cor):\n",
        "  accuracy = np.zeros((2))\n",
        "  total = 0\n",
        "  for i in range(cor.shape[0]):\n",
        "    intersect = np.intersect1d(cor[i], pred[i])\n",
        "    error = len(cor[i]) - len(intersect)\n",
        "    for j in range(accuracy.shape[0]-error):\n",
        "      accuracy[j] = accuracy[j] +1\n",
        "    total = total + 1\n",
        "  return accuracy/total"
      ],
      "metadata": {
        "id": "j1EUz0vBIjxD"
      },
      "execution_count": null,
      "outputs": []
    },
    {
      "cell_type": "code",
      "source": [
        "x_test = np.load('/content/x_test_red.npy')\n",
        "y_test = np.load('/content/y_test_red.npy')"
      ],
      "metadata": {
        "id": "sbiJ9uyLIjxE"
      },
      "execution_count": null,
      "outputs": []
    },
    {
      "cell_type": "code",
      "source": [
        "x_test = x_test[:500]\n",
        "y_test = y_test[:500]"
      ],
      "metadata": {
        "id": "H7MFUx5KIjxE"
      },
      "execution_count": null,
      "outputs": []
    },
    {
      "cell_type": "code",
      "source": [
        "molecules = []\n",
        "molecules_embedding = []\n",
        "label = []\n",
        "for i in range(0, 100):\n",
        "  molecules = []\n",
        "  embedding = np.zeros((20, latent_dim))\n",
        "  for j in range(0, 20):\n",
        "    molecule = x_train[20*i + j]/np.max(x_train[20*i + j]) + np.random.normal(0,0.005,5000)\n",
        "    molecules.append(molecule)\n",
        "  molecules = np.array(molecules)\n",
        "  molecules = torch.Tensor(molecules).to(device)\n",
        "  embedding = embedding + model.predict(molecules).detach().cpu().numpy()\n",
        "  embedding = np.mean(embedding, axis = 0)\n",
        "  molecules_embedding.append(embedding/np.linalg.norm(embedding))\n",
        "  label.append(i)\n",
        "label = np.array(label)"
      ],
      "metadata": {
        "id": "giQgwQYMIjxE"
      },
      "execution_count": null,
      "outputs": []
    },
    {
      "cell_type": "code",
      "source": [
        "label_train = np.zeros(shape = (len(label)*(len(label)-1)//2, 2))\n",
        "mixture_train = np.zeros(shape = (len(label)*(len(label)-1)//2, 64))\n",
        "l = 0\n",
        "for i in range(len(molecules_embedding)):\n",
        "  for j in range(i+1, len(molecules_embedding)):\n",
        "    emb = molecules_embedding[i] + molecules_embedding[j]\n",
        "    mixture_train[l] = emb/np.linalg.norm(emb)\n",
        "    label_train[l] = np.array([label[i], label[j]])\n",
        "    l = l + 1"
      ],
      "metadata": {
        "id": "nDHGssM6IjxE"
      },
      "execution_count": null,
      "outputs": []
    },
    {
      "cell_type": "code",
      "source": [
        "mixtures_test = []\n",
        "correct_test = []\n",
        "for i in range(0, 500):\n",
        "  a = x_test[i]\n",
        "  idxs = np.concatenate((np.arange(x_test[:].shape[0])[0 : i//5 * 5],\n",
        "                                      np.arange(x_test[:].shape[0])[(i//5 + 1) * 5 :]))\n",
        "  b_idx = np.random.choice(idxs)\n",
        "  b = x_test[b_idx]\n",
        "  mixtures_test.append((a+b)/np.max(a+b) + np.random.normal(0,0.005,a.shape[0]))\n",
        "  correct_test.append([y_test[i], y_test[b_idx]])\n",
        "mixtures_test = torch.Tensor(mixtures_test).to(device)\n",
        "classification_data_test = model.predict(mixtures_test).detach().cpu().numpy()\n",
        "correct_test = np.array(correct_test).reshape(-1, 2)"
      ],
      "metadata": {
        "id": "N7XPCM8QIjxE"
      },
      "execution_count": null,
      "outputs": []
    },
    {
      "cell_type": "code",
      "source": [
        "from sklearn.neighbors import KNeighborsClassifier\n",
        "neigh = KNeighborsClassifier(n_neighbors=1)\n",
        "neigh.fit(mixture_train, label_train)\n",
        "preds = neigh.predict(classification_data_test)"
      ],
      "metadata": {
        "id": "ObDu4j0MIjxE"
      },
      "execution_count": null,
      "outputs": []
    },
    {
      "cell_type": "code",
      "source": [
        "accuracy = accuracy_(preds, correct_test)"
      ],
      "metadata": {
        "id": "rIkt-9krIjxE"
      },
      "execution_count": null,
      "outputs": []
    },
    {
      "cell_type": "code",
      "source": [
        "print('.....Accuracy.....')\n",
        "print('1 of 2 ......', accuracy[0])\n",
        "print('2 of 2 ......', accuracy[1])"
      ],
      "metadata": {
        "colab": {
          "base_uri": "https://localhost:8080/"
        },
        "id": "5Ulz6zYhXqTW",
        "outputId": "469ab404-1c61-4ace-9ca7-d86515c12baf"
      },
      "execution_count": null,
      "outputs": [
        {
          "output_type": "stream",
          "name": "stdout",
          "text": [
            ".....Accuracy.....\n",
            "1 of 2 ...... 0.998\n",
            "2 of 2 ...... 0.966\n"
          ]
        }
      ]
    },
    {
      "cell_type": "markdown",
      "source": [
        "# Тройные смеси"
      ],
      "metadata": {
        "id": "XxWMhSO8JXcV"
      }
    },
    {
      "cell_type": "code",
      "source": [
        "model = SiameseNet(latent_dim).to(device)\n",
        "model.load_state_dict(torch.load('/content/model_weights'))"
      ],
      "metadata": {
        "id": "Vt3oeRExxvQr"
      },
      "execution_count": null,
      "outputs": []
    },
    {
      "cell_type": "code",
      "source": [
        "def accuracy_(pred, cor):\n",
        "  accuracy = np.zeros((3))\n",
        "  total = 0\n",
        "  for i in range(cor.shape[0]):\n",
        "    intersect = np.intersect1d(cor[i], pred[i])\n",
        "    error = len(cor[i]) - len(intersect)\n",
        "    for j in range(accuracy.shape[0]-error):\n",
        "      accuracy[j] = accuracy[j] +1\n",
        "    total = total + 1\n",
        "  return accuracy/total"
      ],
      "metadata": {
        "id": "Jpyl0P13JXcb"
      },
      "execution_count": null,
      "outputs": []
    },
    {
      "cell_type": "code",
      "source": [
        "x_test = np.load('/content/x_test_red.npy')\n",
        "y_test = np.load('/content/y_test_red.npy')"
      ],
      "metadata": {
        "id": "kIqOvk3qJXcb"
      },
      "execution_count": null,
      "outputs": []
    },
    {
      "cell_type": "code",
      "source": [
        "x_test = x_test[:500]\n",
        "y_test = y_test[:500]"
      ],
      "metadata": {
        "id": "tm8IFzV7JXcb"
      },
      "execution_count": null,
      "outputs": []
    },
    {
      "cell_type": "code",
      "source": [
        "molecules = []\n",
        "molecules_embedding = []\n",
        "label = []\n",
        "for i in range(0, 100):\n",
        "  molecules = []\n",
        "  embedding = np.zeros((20, latent_dim))\n",
        "  for j in range(0, 20):\n",
        "    molecule = x_train[20*i + j]/np.max(x_train[20*i + j]) + np.random.normal(0,0.005,5000)\n",
        "    molecules.append(molecule)\n",
        "  molecules = np.array(molecules)\n",
        "  molecules = torch.Tensor(molecules).to(device)\n",
        "  embedding = embedding + model.predict(molecules).detach().cpu().numpy()\n",
        "  embedding = np.mean(embedding, axis = 0)\n",
        "  molecules_embedding.append(embedding/np.linalg.norm(embedding))\n",
        "  label.append(i)\n",
        "label = np.array(label)"
      ],
      "metadata": {
        "id": "VrUKzvr-JXcb"
      },
      "execution_count": null,
      "outputs": []
    },
    {
      "cell_type": "code",
      "source": [
        "label_train = np.zeros(shape = (len(label)*(len(label)-1)*(len(label) - 2)//2//3, 3))\n",
        "mixture_train = np.zeros(shape = (len(label)*(len(label)-1)*(len(label) - 2)//2//3, 64))\n",
        "l = 0\n",
        "for i in range(len(molecules_embedding)):\n",
        "  for j in range(i+1, len(molecules_embedding)):\n",
        "    for k in range(j+1, len(molecules_embedding)):\n",
        "      emb = molecules_embedding[i] + molecules_embedding[j] + molecules_embedding[k]\n",
        "      mixture_train[l] = emb/np.linalg.norm(emb)\n",
        "      label_train[l] = np.array([label[i], label[j], label[k]])\n",
        "      l = l + 1"
      ],
      "metadata": {
        "id": "qRkE_KquJXcc"
      },
      "execution_count": null,
      "outputs": []
    },
    {
      "cell_type": "code",
      "source": [
        "mixtures_test = []\n",
        "correct_test = []\n",
        "for i in range(0, 500):\n",
        "  a = x_test[i]\n",
        "  idxs = np.concatenate((np.arange(x_test[:].shape[0])[0 : i//5 * 5],\n",
        "                                      np.arange(x_test[:].shape[0])[(i//5 + 1) * 5 :]))\n",
        "  b_idx = np.random.choice(idxs)\n",
        "  b = x_test[b_idx]\n",
        "  c_idx = np.random.choice(idxs)\n",
        "  c = x_test[c_idx]\n",
        "  mixtures_test.append((a+b+c)/np.max(a+b+c) + np.random.normal(0,0.005,a.shape[0]))\n",
        "  correct_test.append([y_test[i], y_test[b_idx], y_test[c_idx]])\n",
        "mixtures_test = torch.Tensor(mixtures_test).to(device)\n",
        "classification_data_test = model.predict(mixtures_test).detach().cpu().numpy()\n",
        "correct_test = np.array(correct_test).reshape(-1, 3)"
      ],
      "metadata": {
        "id": "tYJH-QGEJXcc"
      },
      "execution_count": null,
      "outputs": []
    },
    {
      "cell_type": "code",
      "source": [
        "from sklearn.neighbors import KNeighborsClassifier\n",
        "neigh = KNeighborsClassifier(n_neighbors=1)\n",
        "neigh.fit(mixture_train, label_train)\n",
        "preds = neigh.predict(classification_data_test)"
      ],
      "metadata": {
        "id": "YCgXR2e-JXcc"
      },
      "execution_count": null,
      "outputs": []
    },
    {
      "cell_type": "code",
      "source": [
        "accuracy = accuracy_(preds, correct_test)"
      ],
      "metadata": {
        "id": "M0xrbaZKJXcc"
      },
      "execution_count": null,
      "outputs": []
    },
    {
      "cell_type": "code",
      "source": [
        "print('.....Accuracy.....')\n",
        "print('1 of 3 ......', accuracy[0])\n",
        "print('2 of 3 ......', accuracy[1])\n",
        "print('3 of 3 ......', accuracy[2])"
      ],
      "metadata": {
        "colab": {
          "base_uri": "https://localhost:8080/"
        },
        "id": "TvdYAY7QXuxu",
        "outputId": "5a44a453-aef1-4267-d0cd-6f5337f63583"
      },
      "execution_count": null,
      "outputs": [
        {
          "output_type": "stream",
          "name": "stdout",
          "text": [
            ".....Accuracy.....\n",
            "1 of 3 ...... 1.0\n",
            "2 of 3 ...... 0.994\n",
            "3 of 3 ...... 0.868\n"
          ]
        }
      ]
    }
  ]
}